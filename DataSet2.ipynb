{
 "cells": [
  {
   "cell_type": "code",
   "execution_count": 32,
   "id": "29ccb744",
   "metadata": {},
   "outputs": [
    {
     "name": "stdout",
     "output_type": "stream",
     "text": [
      "There are altogether 14 rows in the data file health-adjusted-life-expectancy-at-birth.csv\n",
      "\n",
      "There are 7 years of data captured in years below:\n",
      "[1990 1995 2000 2005 2010 2015 2019]\n",
      "\n",
      "Year with the highest  Male hale_years: 2019\n",
      "Count: 73.7 \n",
      "\n",
      "Year with the lowest  Male hale_years: 1990\n",
      "Count: 65.3 \n",
      "\n",
      "Year with the highest  Female hale_years: 2019\n",
      "Count: 75.2 \n",
      "\n",
      "Year with the lowest  Female hale_years: 1990\n",
      "Count: 68.2 \n",
      "\n"
     ]
    }
   ],
   "source": [
    "#a)\tYour name and the title of your data analysis\n",
    "#Student Name:Yang Zhenhua\n",
    "#Student admin Num:P1816233\n",
    "#Title of Data Analysis: Life expectancy of male and female in SG\n",
    "\n",
    "#b)\tThe questions you want to answer to gain deeper insights into the chosen datasets such that you are able to produce an interesting data analysis on it\n",
    "#The relation between year and life expectancy\n",
    "#The difference in life expectancy between male and female\n",
    "\n",
    "#c)\tA list of URLs of all the datasets you have used\n",
    "#https://data.gov.sg/dataset/health-adjusted-life-expectancy?view_id=1f3acfb6-b53f-4974-8088-ffc3b069cade&resource_id=07768e9d-222d-466e-a786-e2f90b33c057\n",
    "\n",
    "#d)\tFor each dataset, write Python code that uses the Numpy package to extract useful statistical or summary information about the data and Matplotlib package to produce useful data visualizations that explain the data. \n",
    "#e)\tFor each dataset, explain the nature of that dataset (i.e. what is in that dataset) or any pecularities about it you wish to highlight and explain the process you went through to analyse that dataset.\n",
    "#f)\tFor each dataset, describe the insights you have gained from analysing the data and any conclusions or recommendations you want to make as a result of the analysis\n",
    "\n",
    "\n",
    "import numpy as np\n",
    "\n",
    "### Read the csv file using genfromtxt\n",
    "filename = \"health-adjusted-life-expectancy-at-birth.csv\"\n",
    "data = np.genfromtxt(filename, dtype=['i2', 'U50', 'f4'], \n",
    "                     delimiter=',', names=True)\n",
    "\n",
    "#print(data)\n",
    "#print(data.shape)\n",
    "\n",
    "### Print out total rows of data in the file\n",
    "print(f'There are altogether {len(data)} rows in the data file {filename}')\n",
    "print()\n",
    "\n",
    "### Print out the number of years of data captured\n",
    "data_years = data['year']\n",
    "years = np.unique(data_years)\n",
    "print(f'There are {len(years)} years of data captured in years below:')\n",
    "print(years)\n",
    "print()\n",
    "\n",
    "### Extract only the rows with Male\" - using boolean indexing\n",
    "keyword1 = 'Male'\n",
    "data_Male = data[data['sex'] == keyword1]\n",
    "#print(data_Male)\n",
    "\n",
    "keyword2 = 'Female'\n",
    "data_Female = data[data['sex'] == keyword2]\n",
    "#print(data_Female)\n",
    "\n",
    "### Print out the years which has the highest Male hale_years\n",
    "max_Male = data_Male['hale_years'].max()\n",
    "argmax_Male = data_Male['hale_years'].argmax()\n",
    "print(f'Year with the highest  Male hale_years: { data_Male[argmax_Male][\"year\"]}')\n",
    "print(f'Count: { max_Male:.1f} ')\n",
    "print()\n",
    "\n",
    "### Print out the years which has the lowest Male hale_years\n",
    "min_Male = data_Male['hale_years'].min()\n",
    "argmin_Male = data_Male['hale_years'].argmin()\n",
    "print(f'Year with the lowest  Male hale_years: { data_Male[argmin_Male][\"year\"]}')\n",
    "print(f'Count: { min_Male:.1f} ')\n",
    "print()\n",
    "\n",
    "### Print out the years which has the highest Female hale_years\n",
    "max_Female = data_Female['hale_years'].max()\n",
    "argmax_Female = data_Female['hale_years'].argmax()\n",
    "print(f'Year with the highest  Female hale_years: { data_Female[argmax_Female][\"year\"]}')\n",
    "print(f'Count: { max_Female:.1f} ')\n",
    "print()\n",
    "\n",
    "### Print out the years which has the lowest Male hale_years\n",
    "min_Female = data_Female['hale_years'].min()\n",
    "argmin_Female = data_Female['hale_years'].argmin()\n",
    "print(f'Year with the lowest  Female hale_years: { data_Female[argmin_Female][\"year\"]}')\n",
    "print(f'Count: { min_Female:.1f} ')\n",
    "print()"
   ]
  },
  {
   "cell_type": "code",
   "execution_count": 29,
   "id": "58f1c4b9",
   "metadata": {},
   "outputs": [
    {
     "data": {
      "image/png": "[encoded data removed]",
      "text/plain": [
       "<Figure size 432x288 with 1 Axes>"
      ]
     },
     "metadata": {
      "needs_background": "light"
     },
     "output_type": "display_data"
    }
   ],
   "source": [
    "#This sample output uses the Matplotlib library to plot a Scatter Plot to allow the user to perform a simple data analysis of the relation between year and life expectancy \n",
    "\n",
    "#From the bar chart, it shows that the Life expectancy rised along with the year.And the female expectancy is obviously over male while the gap between them is less and less\n",
    "\n",
    "import numpy as np\n",
    "import matplotlib.pyplot as plt\n",
    "\n",
    "data_MaleYear = data_Male[\"hale_years\"]\n",
    "data_FemaleYear = data_Female[\"hale_years\"]\n",
    "\n",
    "plt.scatter(years,data_MaleYear,label=\"Male\")\n",
    "plt.scatter(years,data_FemaleYear,label=\"Female\")\n",
    "plt.title(\"Adjusted Life Expectancy Scatterplot\")\n",
    "plt.xlabel(\"Year\")\n",
    "plt.ylabel(\"Life Expectancy\")\n",
    "\n",
    "plt.legend()\n",
    "plt.show()\n",
    "\n",
    "#According to the analysing of this dataset,it can be infer that the adjusted life expectancy will be less and less until very close with the time flys.\n",
    "#Moreover,the speed of increase in life expectancy will lower an lower while the life limit keeps rising \n",
    "\n",
    "##Conclusion of all the analysing:\n",
    "##People's cost in health care has being increased those years,which mainly account for rising home nursing cost,thus,the adjusted life expectancy also has being increased.\n",
    "##while the life expectancy gap between male and female has being decreased with better and better health care\n",
    "##The data shows a large difference in expeniture percentage on health care between different income groups,the rich may consider more on their health."
   ]
  }
 ],
 "metadata": {
  "kernelspec": {
   "display_name": "Python 3",
   "language": "python",
   "name": "python3"
  },
  "language_info": {
   "codemirror_mode": {
    "name": "ipython",
    "version": 3
   },
   "file_extension": ".py",
   "mimetype": "text/x-python",
   "name": "python",
   "nbconvert_exporter": "python",
   "pygments_lexer": "ipython3",
   "version": "3.8.8"
  }
 },
 "nbformat": 4,
 "nbformat_minor": 5
}
