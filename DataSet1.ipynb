{
 "cells": [
  {
   "cell_type": "code",
   "execution_count": 143,
   "id": "664b025b",
   "metadata": {
    "scrolled": true
   },
   "outputs": [
    {
     "name": "stdout",
     "output_type": "stream",
     "text": [
      "There are altogether 28 rows in the data file number-of-home-care-visits.csv\n",
      "\n",
      "There are 14 years of data captured from 2006 to 2019\n",
      "\n",
      "Year with the highest  Home nursing count: 2019\n",
      "Count: 86010 \n",
      "\n",
      "Year with the lowest  Home nursing count: 2010\n",
      "Count: 33968 \n",
      "\n",
      "Year with the highest  Home Medical count: 2019\n",
      "Count: 10568 \n",
      "\n",
      "Year with the lowest  Home Medical count: 2009\n",
      "Count: 1241 \n",
      "\n"
     ]
    }
   ],
   "source": [
    "#a)\tYour name and the title of your data analysis\n",
    "#Student Name:Yang Zhenhua\n",
    "#Student admin Num:P1816233\n",
    "#Title of Data Analysis: Number of home care visitors in SG\n",
    "\n",
    "#b)\tThe questions you want to answer to gain deeper insights into the chosen datasets such that you are able to produce an interesting data analysis on it\n",
    "#The trend of the home care number\n",
    "#The gap between two types of home care in terms of number\n",
    "\n",
    "#c)\tA list of URLs of all the datasets you have used\n",
    "#https://data.gov.sg/dataset/number-of-home-care-visits?view_id=b20daddd-a30a-4d49-ad9a-b96385679bec&resource_id=261dc632-cd78-47d9-a697-0001c6daab69\n",
    "\n",
    "#d)\tFor each dataset, write Python code that uses the Numpy package to extract useful statistical or summary information about the data and Matplotlib package to produce useful data visualizations that explain the data. \n",
    "#e)\tFor each dataset, explain the nature of that dataset (i.e. what is in that dataset) or any pecularities about it you wish to highlight and explain the process you went through to analyse that dataset.\n",
    "#f)\tFor each dataset, describe the insights you have gained from analysing the data and any conclusions or recommendations you want to make as a result of the analysis\n",
    "\n",
    "\n",
    "import numpy as np\n",
    "\n",
    "### Read the csv file using genfromtxt\n",
    "filename = \"number-of-home-care-visits.csv\"\n",
    "data = np.genfromtxt(filename, dtype=['i2', 'U50', 'i8'], \n",
    "                     delimiter=',', names=True)\n",
    "\n",
    "#print(data)\n",
    "#print(data.shape)\n",
    "\n",
    "### Print out total rows of data in the file\n",
    "print(f'There are altogether {len(data)} rows in the data file {filename}')\n",
    "print()\n",
    "\n",
    "### Print out the number of years of data captured\n",
    "data_years = data['year']\n",
    "years = np.unique(data_years)\n",
    "print(f'There are {len(years)} years of data captured from {years.min()} to {years.max()}')\n",
    "print()\n",
    "\n",
    "### Extract only the rows with Home Nirsing Type\" - using boolean indexing\n",
    "keyword1 = 'Home Nursing'\n",
    "data_homeN = data[data['type'] == keyword1]\n",
    "#print(data_homeN)\n",
    "\n",
    "keyword2 = 'Home Medical'\n",
    "data_homeM = data[data['type'] == keyword2]\n",
    "#print(data_homeM)\n",
    "\n",
    "\n",
    "### Print out the years which has the highest Home Nursing count\n",
    "max_Nursing = data_homeN['count'].max()\n",
    "argmax_Nursing = data_homeN['count'].argmax()\n",
    "print(f'Year with the highest  Home nursing count: { data_homeN[argmax_Nursing][\"year\"]}')\n",
    "print(f'Count: { max_Nursing } ')\n",
    "print()\n",
    "\n",
    "### Print out the years which has the lowest Home Nursing count\n",
    "min_Nursing = data_homeN['count'].min()\n",
    "argmin_Nursing = data_homeN['count'].argmin()\n",
    "print(f'Year with the lowest  Home nursing count: { data_homeN[argmin_Nursing][\"year\"]}')\n",
    "print(f'Count: { min_Nursing } ')\n",
    "print()\n",
    "\n",
    "### Print out the years which has the highest Home Medical count\n",
    "max_Medical = data_homeM['count'].max()\n",
    "argmax_Medical = data_homeM['count'].argmax()\n",
    "print(f'Year with the highest  Home Medical count: { data_homeM[argmax_Medical][\"year\"]}')\n",
    "print(f'Count: { max_Medical } ')\n",
    "print()\n",
    "\n",
    "### Print out the years which has the lowest Home Medical count\n",
    "min_Medical = data_homeM['count'].min()\n",
    "argmin_Medical = data_homeM['count'].argmin()\n",
    "print(f'Year with the lowest  Home Medical count: { data_homeM[argmin_Medical][\"year\"]}')\n",
    "print(f'Count: { min_Medical } ')\n",
    "print()\n",
    "\n",
    "\n"
   ]
  },
  {
   "cell_type": "code",
   "execution_count": 142,
   "id": "1334c252",
   "metadata": {},
   "outputs": [
    {
     "data": {
      "image/png": "[encoded data removed]",
      "text/plain": [
       "<Figure size 432x288 with 1 Axes>"
      ]
     },
     "metadata": {
      "needs_background": "light"
     },
     "output_type": "display_data"
    }
   ],
   "source": [
    "\n",
    "#This sample output uses the Matplotlib library to plot a line chart and a bar chart to allow the user to perform a simple data analysis of the number of home care visits\n",
    "\n",
    "#From the line chart, it shows the number of Home Nursing and home medical over the years. It is quite low before 2010 and it rises constanly and reaches a high point at the end year(2019).\n",
    "#As a whole,the Home medical visits rise rate is quite low comparing with Home nursing \n",
    "\n",
    "import matplotlib.pyplot as plt\n",
    "\n",
    "data_NursingCount = data_homeN[\"count\"]\n",
    "data_MedicalCount = data_homeM[\"count\"]\n",
    "#print(data_NursingCount)\n",
    "#print(data_MedicalCount)\n",
    "plt.title('Number of Home Care Visits in annual')\n",
    "plt.xlabel('Years')\n",
    "plt.ylabel('Visits')\n",
    "\n",
    "plt.plot(years,data_NursingCount,label=\"Home Nursing\")\n",
    "plt.plot(years,data_MedicalCount,\"r-\",label=\"Home Medical\")\n",
    "\n",
    "plt.legend()\n",
    "plt.show()\n"
   ]
  },
  {
   "cell_type": "code",
   "execution_count": 138,
   "id": "7bbbad6a",
   "metadata": {},
   "outputs": [
    {
     "data": {
      "image/png": "[encoded data removed]",
      "text/plain": [
       "<Figure size 432x288 with 1 Axes>"
      ]
     },
     "metadata": {
      "needs_background": "light"
     },
     "output_type": "display_data"
    }
   ],
   "source": [
    "#From the bar chart, it shows that the number of Home Nursing is much more than Home Medical from 2006 to 2019.\n",
    "\n",
    "import matplotlib.pyplot as plt\n",
    "\n",
    "plt.bar(years - 0.2, data_NursingCount, 0.4, label = 'Nursing')\n",
    "plt.bar(years + 0.2, data_MedicalCount, 0.4, label = 'Medical')\n",
    "plt.title('Number of Home care in Nursing VS Medical')\n",
    "plt.legend()\n",
    "plt.show()\n",
    "\n",
    "#According to the analysing of this dataset,the Home Medical should be enhanced in order to match the development pace of Home Nursing"
   ]
  }
 ],
 "metadata": {
  "kernelspec": {
   "display_name": "Python 3",
   "language": "python",
   "name": "python3"
  },
  "language_info": {
   "codemirror_mode": {
    "name": "ipython",
    "version": 3
   },
   "file_extension": ".py",
   "mimetype": "text/x-python",
   "name": "python",
   "nbconvert_exporter": "python",
   "pygments_lexer": "ipython3",
   "version": "3.8.8"
  }
 },
 "nbformat": 4,
 "nbformat_minor": 5
}
